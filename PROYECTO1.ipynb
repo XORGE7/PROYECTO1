{
 "cells": [
  {
   "cell_type": "markdown",
   "metadata": {},
   "source": [
    "# ¡Hola Jorge!\n",
    "\n",
    "Mi nombre es Ezequiel Ferrario, soy code reviewer en Tripleten y tengo el agrado de revisar el proyecto que entregaste.\n",
    "\n",
    "Para simular la dinámica de un ambiente de trabajo, si veo algún error, en primer instancia solo los señalaré, dándote la oportunidad de encontrarlos y corregirlos por tu cuenta. En un trabajo real, el líder de tu equipo hará una dinámica similar. En caso de que no puedas resolver la tarea, te daré una información más precisa en la próxima revisión.\n",
    "\n",
    "Encontrarás mis comentarios más abajo - **por favor, no los muevas, no los modifiques ni los borres**.\n",
    "\n",
    "¿Cómo lo voy a hacer? Voy a leer detenidamente cada una de las implementaciones que has llevado a cabo para cumplir con lo solicitado. Verás los comentarios de esta forma:\n",
    "\n",
    "<div class=\"alert alert-block alert-success\">\n",
    "<b>Comentario del revisor</b> <a class=\"tocSkip\"></a>\n",
    "\n",
    "Si todo está perfecto.\n",
    "</div>\n",
    "\n",
    "\n",
    "<div class=\"alert alert-block alert-warning\">\n",
    "<b>Comentario del revisor</b> <a class=\"tocSkip\"></a>\n",
    "\n",
    "Si tu código está bien pero se puede mejorar o hay algún detalle que le hace falta. Se aceptan uno o dos comentarios de este tipo en el borrador, pero si hay más, deberá hacer las correcciones. Es como una tarea de prueba al solicitar un trabajo: muchos pequeños errores pueden hacer que un candidato sea rechazado.\n",
    "</div>\n",
    "\n",
    "<div class=\"alert alert-block alert-danger\">\n",
    "\n",
    "<b>Comentario del revisor</b> <a class=\"tocSkip\"></a>\n",
    "\n",
    "Si de pronto hace falta algo o existe algún problema con tu código o conclusiones.\n",
    "</div>\n",
    "\n",
    "Puedes responderme de esta forma:\n",
    "\n",
    "<div class=\"alert alert-block alert-info\">\n",
    "<b>Respuesta del estudiante</b> <a class=\"tocSkip\"></a>\n",
    "\n",
    "Hola, muchas gracias por tus comentarios y la revisión.\n",
    "</div>\n",
    "\n",
    "¡Empecemos!"
   ]
  },
  {
   "cell_type": "markdown",
   "metadata": {
    "id": "jrvwNQJi0P9l"
   },
   "source": [
    "Una empresa de comercio electrónico, Store 1, recientemente comenzó a recopilar datos sobre sus clientes. El objetivo final de Store 1 es comprender mejor el comportamiento de sus clientes y tomar decisiones basadas en datos para mejorar su experiencia online.\n",
    "\n",
    "Como parte del equipo de análisis, tu primera tarea es evaluar la calidad de una muestra de datos recopilados y prepararla para futuros análisis."
   ]
  },
  {
   "cell_type": "markdown",
   "metadata": {
    "id": "2utuFkVZ0P9p"
   },
   "source": [
    "# Cuestionario\n",
    "\n",
    "Store 1 tiene como objetivo garantizar la coherencia en la recopilación de datos. Como parte de esta iniciativa, se debe evaluar la calidad de los datos recopilados sobre los usuarios y las usuarias. Te han pedido que revises los datos recopilados y propongas cambios. A continuación verás datos sobre un usuario o una usuaria en particular; revisa los datos e identifica cualquier posible problema."
   ]
  },
  {
   "cell_type": "code",
   "execution_count": 1,
   "metadata": {
    "id": "v4ldWAes0P9q"
   },
   "outputs": [],
   "source": [
    "user_id = '32415'\n",
    "user_name = 'mike reed'\n",
    "user_age = 32\n",
    "fav_categories = ['electronics', 'sport', 'books']"
   ]
  },
  {
   "cell_type": "markdown",
   "metadata": {
    "id": "v5J9NgXf0P9r"
   },
   "source": [
    "**Opciones:**\n",
    "\n",
    "1. El tipo de datos para `user_id` debe cambiarse de una cadena a un número entero.\n",
    "    \n",
    "2. La variable `user_name` contiene una cadena que tiene espacios innecesarios y un guion bajo entre el nombre y el apellido.\n",
    "    \n",
    "3. El tipo de datos de `user_age` es incorrecto.\n",
    "    \n",
    "4. La lista `fav_categories` contiene cadenas en mayúsculas. En su lugar, deberíamos convertir los valores de la lista a minúsculas."
   ]
  },
  {
   "cell_type": "markdown",
   "metadata": {
    "id": "dZRSLSQV0P9s"
   },
   "source": [
    "Escribe en la celda Markdown a continuación el número de las opciones que has identificado como problemas. Si has identificado varios problemas, sepáralos con comas. Por ejemplo, si crees que los números 1 y 3 son correctos, escribe 1, 3."
   ]
  },
  {
   "cell_type": "markdown",
   "metadata": {
    "id": "iCEVoi_A0P9s"
   },
   "source": [
    "**Escribe tu respuesta y explica tu argumentación:**\n",
    "1,2,3,4"
   ]
  },
  {
   "cell_type": "markdown",
   "metadata": {
    "id": "qKAtWDqu0P9t"
   },
   "source": [
    "# Ejercicio 1\n",
    "\n",
    "Vamos a implementar los cambios que identificamos. Primero, necesitamos corregir los problemas de la variable `user_name`. Como vimos, tiene espacios innecesarios y un guion bajo como separador entre el nombre y el apellido; tu objetivo es eliminar los espacios y luego reemplazar el guion bajo con el espacio."
   ]
  },
  {
   "cell_type": "code",
   "execution_count": 2,
   "metadata": {
    "id": "442z87Uq0P9t"
   },
   "outputs": [
    {
     "name": "stdout",
     "output_type": "stream",
     "text": [
      "mike reed\n"
     ]
    }
   ],
   "source": [
    "user_name = ' mike_reed '\n",
    "\n",
    "# Eliminar espacios innecesarios y reemplazar guion bajo con espacio\n",
    "user_name = user_name.strip().replace('_', ' ')\n",
    "\n",
    "print(user_name)"
   ]
  },
  {
   "cell_type": "markdown",
   "metadata": {},
   "source": [
    "<div class=\"alert alert-block alert-success\">\n",
    "<b>Comentario del revisor</b> <a class=\"tocSkip\"></a>\n",
    "\n",
    "Muy bien.</div>"
   ]
  },
  {
   "cell_type": "markdown",
   "metadata": {
    "id": "g4YyN4WK0P9t"
   },
   "source": [
    "# Ejercicio 2\n",
    "\n",
    "Luego, debemos dividir el `user_name` (nombre de usuario o usuaria) actualizado en dos subcadenas para obtener una lista que contenga dos valores: la cadena para el nombre y la cadena para el apellido."
   ]
  },
  {
   "cell_type": "code",
   "execution_count": 3,
   "metadata": {
    "id": "Q1L1ARfY0P9u"
   },
   "outputs": [
    {
     "name": "stdout",
     "output_type": "stream",
     "text": [
      "Nombre: mike\n",
      "Apellido: reed\n"
     ]
    }
   ],
   "source": [
    "\n",
    "user_name = 'mike reed'\n",
    "\n",
    "# Dividir la cadena en dos subcadenas\n",
    "name_split = user_name.split()\n",
    "\n",
    "# Ahora name_split es una lista con dos elementos, el primero es el nombre y el segundo es el apellido\n",
    "nombre = name_split[0]\n",
    "apellido = name_split[1] if len(name_split) > 1 else ''  # Manejar el caso en que no haya un apellido\n",
    "\n",
    "print(\"Nombre:\", nombre)\n",
    "print(\"Apellido:\", apellido)"
   ]
  },
  {
   "cell_type": "markdown",
   "metadata": {},
   "source": [
    "<div class=\"alert alert-block alert-success\">\n",
    "<b>Comentario del revisor</b> <a class=\"tocSkip\"></a>\n",
    "\n",
    "Excelente.</div>"
   ]
  },
  {
   "cell_type": "markdown",
   "metadata": {
    "id": "-VWZkZtc0P9u"
   },
   "source": [
    "# Ejercicio 3\n",
    "\n",
    "¡Genial! Ahora debemos trabajar con la variable `user_age`. Como ya mencionamos, esta tiene un tipo de datos incorrecto. Arreglemos este problema transformando el tipo de datos y mostrando el resultado final."
   ]
  },
  {
   "cell_type": "code",
   "execution_count": 4,
   "metadata": {
    "id": "WPpidP470P9u"
   },
   "outputs": [
    {
     "name": "stdout",
     "output_type": "stream",
     "text": [
      "Edad: 32\n"
     ]
    }
   ],
   "source": [
    "user_age = 32.0\n",
    "\n",
    "# Convertir el tipo de datos de float a int\n",
    "user_age = int(user_age)\n",
    "\n",
    "# Mostrar el resultado final\n",
    "print(\"Edad:\", user_age)"
   ]
  },
  {
   "cell_type": "markdown",
   "metadata": {
    "id": "xdfgaKd60P9v"
   },
   "source": [
    "# Ejercicio 4\n",
    "\n",
    "Como sabemos, los datos no siempre son perfectos. Debemos considerar escenarios en los que el valor de `user_age` no se pueda convertir en un número entero. Para evitar que nuestro sistema se bloquee, debemos tomar medidas con anticipación.\n",
    "\n",
    "Escribe un código que intente convertir la variable `user_age` en un número entero y asigna el valor transformado a `user_age_int`. Si el intento falla, mostramos un mensaje pidiendo al usuario o la usuaria que proporcione su edad como un valor numérico con el mensaje: `Please provide your age as a numerical value.` (Proporcione su edad como un valor numérico.)"
   ]
  },
  {
   "cell_type": "code",
   "execution_count": 5,
   "metadata": {
    "id": "duI5zn_O0P9v"
   },
   "outputs": [
    {
     "name": "stdout",
     "output_type": "stream",
     "text": [
      "Please provide your age as a numerical value.\n"
     ]
    }
   ],
   "source": [
    "user_age = 'treinta y dos'  # Variable que almacena la edad como un string.\n",
    "\n",
    "try:\n",
    "    # Intentar convertir user_age en un entero\n",
    "    user_age_int = int(user_age)\n",
    "    \n",
    "    # Si tiene éxito, imprimir el resultado\n",
    "    print(\"Edad (como entero):\", user_age_int)\n",
    "\n",
    "except ValueError:\n",
    "    # Si hay un error de conversión, imprimir un mensaje\n",
    "    print(\"Please provide your age as a numerical value.\")"
   ]
  },
  {
   "cell_type": "markdown",
   "metadata": {},
   "source": [
    "<div class=\"alert alert-block alert-success\">\n",
    "<b>Comentario del revisor</b> <a class=\"tocSkip\"></a>\n",
    "\n",
    "Muy bien utilizado el *try-except*.</div>"
   ]
  },
  {
   "cell_type": "markdown",
   "metadata": {
    "id": "Q04i6KQH0P9v"
   },
   "source": [
    "# Ejercicio 5\n",
    "\n",
    "Finalmente, considera que todas las categorías favoritas se almacenan en mayúsculas. Para llenar una nueva lista llamada `fav_categories_low` con las mismas categorías, pero en minúsculas, itera los valores en la lista `fav_categories`, modifícalos y agrega los nuevos valores a la lista `fav_categories_low`. Como siempre, muestra el resultado final."
   ]
  },
  {
   "cell_type": "code",
   "execution_count": 6,
   "metadata": {
    "id": "AtQg6ie10P9v"
   },
   "outputs": [
    {
     "name": "stdout",
     "output_type": "stream",
     "text": [
      "Categorías en minúsculas: ['electronics', 'sport', 'books']\n"
     ]
    }
   ],
   "source": [
    "# Lista original de categorías favoritas en mayúsculas\n",
    "fav_categories = ['ELECTRONICS', 'SPORT', 'BOOKS']\n",
    "\n",
    "# Nueva lista para almacenar las categorías en minúsculas\n",
    "fav_categories_low = []\n",
    "\n",
    "for category in fav_categories:\n",
    "    fav_categories_low.append(category.lower())\n",
    "\n",
    "print(\"Categorías en minúsculas:\", fav_categories_low)"
   ]
  },
  {
   "cell_type": "markdown",
   "metadata": {
    "id": "w8J0RSee0P9w"
   },
   "source": [
    "# Ejercicio 6\n",
    "\n",
    "Hemos obtenido información adicional sobre los hábitos de gasto de nuestros usuarios y usuarias, incluido el importe gastado en cada una de sus categorías favoritas. La gerencia está interesada en las siguientes métricas:\n",
    "\n",
    "- Importe total gastado por el usuario o la usuaria.\n",
    "- Importe mínimo gastado.\n",
    "- Importe máximo gastado.\n",
    "\n",
    "Vamos a calcular estos valores y mostrarlos en la pantalla:"
   ]
  },
  {
   "cell_type": "code",
   "execution_count": 7,
   "metadata": {
    "id": "BbhBAmcZ0P9w"
   },
   "outputs": [
    {
     "name": "stdout",
     "output_type": "stream",
     "text": [
      "1280\n",
      "894\n",
      "173\n"
     ]
    }
   ],
   "source": [
    "fav_categories_low = ['electronics', 'sport', 'books']\n",
    "spendings_per_category = [894, 213, 173]\n",
    "\n",
    "total_amount = sum(spendings_per_category) # escribe tu código aquí\n",
    "max_amount = max(spendings_per_category) # escribe tu código aquí\n",
    "min_amount = min(spendings_per_category) # escribe tu código aquí\n",
    "\n",
    "# no elimines la siguiente declaración print\n",
    "print(total_amount)\n",
    "print(max_amount)\n",
    "print(min_amount)\n"
   ]
  },
  {
   "cell_type": "markdown",
   "metadata": {
    "id": "hyPGzOt60P9w"
   },
   "source": [
    "# Ejercicio 7\n",
    "\n",
    "La empresa quiere ofrecer descuentos a sus clientes leales. Los clientes y las clientas que realizan compras por un importe total mayor a $1500 se consideran leales y recibirán un descuento.\n",
    "\n",
    "Nuestro objetivo es crear un bucle `while` que compruebe el importe total gastado y se detenga al alcanzarlo. Para simular nuevas compras, la variable `new_purchase` genera un número entre 30 y 80 en cada iteración del bucle. Esto representa el importe de dinero gastado en una nueva compra y es lo que hay que sumar al total.\n",
    "\n",
    "Una vez que se alcance el importe objetivo y se termine el bucle `while`, se mostrará la cantidad final."
   ]
  },
  {
   "cell_type": "code",
   "execution_count": 8,
   "metadata": {
    "id": "FmpTfK7C0P9x"
   },
   "outputs": [
    {
     "name": "stdout",
     "output_type": "stream",
     "text": [
      "1556\n"
     ]
    }
   ],
   "source": [
    "from random import randint\n",
    "\n",
    "total_amount_spent = 1280\n",
    "target_amount = 1500\n",
    "\n",
    "while total_amount_spent < target_amount: # escribe tu código aquí\n",
    "\tnew_purchase = randint(30, 80) # generamos un número aleatorio de 30 a 80\n",
    "\ttotal_amount_spent += new_purchase# escribe tu código aquí\n",
    "\n",
    "print(total_amount_spent)"
   ]
  },
  {
   "cell_type": "markdown",
   "metadata": {},
   "source": [
    "<div class=\"alert alert-block alert-success\">\n",
    "<b>Comentario del revisor</b> <a class=\"tocSkip\"></a>\n",
    "\n",
    "Perfecto.</div>"
   ]
  },
  {
   "cell_type": "markdown",
   "metadata": {
    "id": "e9j2dOo60P9x"
   },
   "source": [
    "# Ejercicio 8\n",
    "\n",
    "Ahora tenemos toda la información sobre un cliente o una clienta de la forma que queremos que sea. La gerencia de una empresa nos pidió proponer una forma de resumir toda la información sobre un usuario o una usuaria. Tu objetivo es crear una cadena formateada que utilice información de las variables `user_id`, `user_name` y `user_age`.\n",
    "\n",
    "Esta es la cadena final que queremos crear: `User 32415 is mike who is 32 years old.` (El usuario 32415 es Mike, quien tiene 32 años)."
   ]
  },
  {
   "cell_type": "code",
   "execution_count": 9,
   "metadata": {
    "id": "2dzhjYbm0P9x"
   },
   "outputs": [
    {
     "name": "stdout",
     "output_type": "stream",
     "text": [
      "User 32415 is mike who is 32 years old.\n"
     ]
    }
   ],
   "source": [
    "user_id = '32415'\n",
    "user_name = ['mike', 'reed']\n",
    "user_age = 32\n",
    "\n",
    "user_info = f\"User {user_id} is {user_name[0]} who is {user_age} years old.\"# escribe tu código aquí\n",
    "\n",
    "# no elimines la siguiente declaración print\n",
    "print(user_info)"
   ]
  },
  {
   "cell_type": "markdown",
   "metadata": {},
   "source": [
    "<div class=\"alert alert-block alert-success\">\n",
    "<b>Comentario del revisor</b> <a class=\"tocSkip\"></a>\n",
    "\n",
    "Bien utilizado el f-string.</div>"
   ]
  },
  {
   "cell_type": "markdown",
   "metadata": {
    "id": "hJ38hJYU0P9x"
   },
   "source": [
    "Como sabes, las empresas recopilan y almacenan datos de una forma particular. Store 1 desea almacenar toda la información sobre sus clientes y clientas en una tabla.\n",
    "\n",
    "| user_id | user_name | user_age | purchase_category | spending_per_category |\n",
    "| --- | --- | --- | --- | --- |\n",
    "| '32415' | 'mike', 'reed' | 32 | 'electronics', 'sport', 'books' | 894, 213, 173 |\n",
    "| '31980' | 'kate', 'morgan' | 24 | 'clothes', 'shoes' | 439, 390 |\n",
    "\n",
    "En términos técnicos, una tabla es simplemente una lista anidada que contiene una sublista para cada usuario o usuaria.\n",
    "\n",
    "Store 1 ha creado una tabla de este tipo para sus usuarios y usuarias. Se almacena en la variable `users`. Cada sublista contiene el ID del usuario o la usuaria, nombre y apellido, edad, categorías favoritas y el importe gastado en cada categoría."
   ]
  },
  {
   "cell_type": "markdown",
   "metadata": {
    "id": "J7IXD3Zv0P9x"
   },
   "source": [
    "# Ejercicio 9\n",
    "\n",
    "Para calcular los ingresos de la empresa, sigue estos pasos.\n",
    "\n",
    "1. Utiliza `for` para iterar sobre la lista `users`.\n",
    "2. Extrae la lista de gastos de cada usuario o usuaria y suma los valores.\n",
    "3. Actualiza el valor de los ingresos con el total de cada usuario o usuaria.\n",
    "\n",
    "Así obtendrás los ingresos totales de la empresa que mostrarás en la pantalla al final."
   ]
  },
  {
   "cell_type": "code",
   "execution_count": 10,
   "metadata": {
    "id": "d8jeNWXQ0P9y"
   },
   "outputs": [
    {
     "name": "stdout",
     "output_type": "stream",
     "text": [
      "2109\n"
     ]
    }
   ],
   "source": [
    "users = [\n",
    "\t  # este es el inicio de la primera sublista\n",
    "    ['32415', ['mike', 'reed'], 32, ['electronics', 'sport', 'books'], [894, 213, 173]\n",
    "    ], # este es el final de la primera sublista\n",
    "\n",
    "    # este es el inicio de la segunda sublista\n",
    "    ['31980', ['kate', 'morgan'], 24, ['clothes', 'shoes'], [439, 390]\n",
    "    ] # este es el final de la segunda sublista\n",
    "]\n",
    "\n",
    "revenue = 0\n",
    "\n",
    "for user in users:\n",
    "\tspendings_list = user[4] # extrae la lista de gastos de cada usuario o usuaria y suma los valores\n",
    "\ttotal_spendings = sum(spendings_list) # suma los gastos de todas las categorías para obtener el total de un usuario o una usuaria en particular\n",
    "\trevenue += total_spendings # actualiza los ingresos\n",
    "\n",
    "# no elimines la siguiente declaración print\n",
    "print(revenue)"
   ]
  },
  {
   "cell_type": "markdown",
   "metadata": {
    "id": "wR0om7Tk0P9y"
   },
   "source": [
    "# Ejercicio 10\n",
    "\n",
    "Recorre la lista de usuarios y usuarias que te hemos proporcionado y muestra los nombres de la clientela menor de 30 años."
   ]
  },
  {
   "cell_type": "code",
   "execution_count": 11,
   "metadata": {
    "id": "KVdthJm70P9y"
   },
   "outputs": [
    {
     "name": "stdout",
     "output_type": "stream",
     "text": [
      "Nombres de la clientela menor de 30 años: ['kate', 'morgan']\n",
      "Nombres de la clientela menor de 30 años: ['samantha', 'smith']\n",
      "Nombres de la clientela menor de 30 años: ['emily', 'brown']\n",
      "Nombres de la clientela menor de 30 años: ['jose', 'martinez']\n",
      "Nombres de la clientela menor de 30 años: ['james', 'lee']\n"
     ]
    }
   ],
   "source": [
    "users = [\n",
    "    ['32415', ['mike', 'reed'], 32, ['electronics', 'sport', 'books'],\n",
    "     [894, 213, 173]],\n",
    "    ['31980', ['kate', 'morgan'], 24, ['clothes', 'books'], [439,\n",
    "     390]],\n",
    "    ['32156', ['john', 'doe'], 37, ['electronics', 'home', 'food'],\n",
    "     [459, 120, 99]],\n",
    "    ['32761', ['samantha', 'smith'], 29, ['clothes', 'electronics',\n",
    "     'beauty'], [299, 679, 85]],\n",
    "    ['32984', ['david', 'white'], 41, ['books', 'home', 'sport'], [234,\n",
    "     329, 243]],\n",
    "    ['33001', ['emily', 'brown'], 26, ['beauty', 'home', 'food'], [213,\n",
    "     659, 79]],\n",
    "    ['33767', ['maria', 'garcia'], 33, ['clothes', 'food', 'beauty'],\n",
    "     [499, 189, 63]],\n",
    "    ['33912', ['jose', 'martinez'], 22, ['sport', 'electronics', 'home'\n",
    "     ], [259, 549, 109]],\n",
    "    ['34009', ['lisa', 'wilson'], 35, ['home', 'books', 'clothes'],\n",
    "     [329, 189, 329]],\n",
    "    ['34278', ['james', 'lee'], 28, ['beauty', 'clothes', 'electronics'\n",
    "     ], [189, 299, 579]],\n",
    "    ]\n",
    "\n",
    "for user in users:\n",
    "    if user[2] < 30:\n",
    "        print(f\"Nombres de la clientela menor de 30 años: {user[1]}\")#escribe tu código aquí\n",
    "        \n",
    "        \n",
    "\n"
   ]
  },
  {
   "cell_type": "markdown",
   "metadata": {},
   "source": [
    "<div class=\"alert alert-block alert-warning\">\n",
    "<b>Comentario del revisor</b> <a class=\"tocSkip\"></a>\n",
    "\n",
    "Esta muy bien pensado, pero en este caso imprimirlo linea por linea hubiese quedado mas prolijos. Podrias utilizar el f-string para lograr lo que queres, o simplemente en el mismo print con una . </div>\n",
    "\n",
    "\n",
    "\n",
    "<div class=\"alert alert-block alert-danger\">\n",
    "\n",
    "<b>Comentario del revisor #2</b> <a class=\"tocSkip\"></a>\n",
    "\n",
    "Cuidado, la correccion esta muy bien pero te falto comentar la parte de `escribe tu codigo aqui`.</div>\n",
    "\n",
    "\n",
    "<div class=\"alert alert-block alert-success\">\n",
    "\n",
    "<b>Comentario del revisor #3</b> <a class=\"tocSkip\"></a>\n",
    "\n",
    "Corregido. Muy bien, no dejes en mardown codigo que no necesitamos como el ejemplo debajo de este comentario.</div>"
   ]
  },
  {
   "cell_type": "markdown",
   "metadata": {
    "id": "LBHWQenm0P9y"
   },
   "source": [
    "# Ejercicio 11\n",
    "\n",
    "Juntemos las tareas 9 y 10 e imprimamos los nombres de los usuarios y las usuarias que tengan menos de 30 años y un gasto total superior a 1000 dólares."
   ]
  },
  {
   "cell_type": "code",
   "execution_count": 12,
   "metadata": {
    "id": "HaQNXS-V0P9z"
   },
   "outputs": [
    {
     "name": "stdout",
     "output_type": "stream",
     "text": [
      "Nombre: samantha smith\n",
      "Nombre: james lee\n"
     ]
    }
   ],
   "source": [
    "users = [\n",
    "    ['32415', ['mike', 'reed'], 32, ['electronics', 'sport', 'books'],\n",
    "     [894, 213, 173]],\n",
    "    ['31980', ['kate', 'morgan'], 24, ['clothes', 'books'], [439,\n",
    "     390]],\n",
    "    ['32156', ['john', 'doe'], 37, ['electronics', 'home', 'food'],\n",
    "     [459, 120, 99]],\n",
    "    ['32761', ['samantha', 'smith'], 29, ['clothes', 'electronics',\n",
    "     'beauty'], [299, 679, 85]],\n",
    "    ['32984', ['david', 'white'], 41, ['books', 'home', 'sport'], [234,\n",
    "     329, 243]],\n",
    "    ['33001', ['emily', 'brown'], 26, ['beauty', 'home', 'food'], [213,\n",
    "     659, 79]],\n",
    "    ['33767', ['maria', 'garcia'], 33, ['clothes', 'food', 'beauty'],\n",
    "     [499, 189, 63]],\n",
    "    ['33912', ['jose', 'martinez'], 22, ['sport', 'electronics', 'home'\n",
    "     ], [259, 549, 109]],\n",
    "    ['34009', ['lisa', 'wilson'], 35, ['home', 'books', 'clothes'],\n",
    "     [329, 189, 329]],\n",
    "    ['34278', ['james', 'lee'], 28, ['beauty', 'clothes', 'electronics'\n",
    "     ], [189, 299, 579]],\n",
    "    ]\n",
    "\n",
    "\n",
    "for user in users:\n",
    "    \n",
    "    age = user[2]\n",
    "    total_expense = sum(user[4])\n",
    "\n",
    "    \n",
    "    if age < 30 and total_expense > 1000:\n",
    "        \n",
    "        print(f\"Nombre: {user[1][0]} {user[1][1]}\")"
   ]
  },
  {
   "cell_type": "markdown",
   "metadata": {},
   "source": [
    "\n",
    "\n",
    "<div class=\"alert alert-block alert-success\">\n",
    "\n",
    "<b>Comentario del revisor #3</b> <a class=\"tocSkip\"></a>\n",
    "\n",
    "Corregido.</div>"
   ]
  },
  {
   "cell_type": "markdown",
   "metadata": {
    "id": "yRozkK0R0P90"
   },
   "source": [
    "# Ejercicio 12\n",
    "\n",
    "Ahora vamos a mostrar el nombre y la edad de todos los usuarios y todas las usuarias que han comprado ropa. Imprime el nombre y la edad en la misma declaración print."
   ]
  },
  {
   "cell_type": "code",
   "execution_count": 5,
   "metadata": {
    "id": "mSIyHq1f0P90"
   },
   "outputs": [
    {
     "name": "stdout",
     "output_type": "stream",
     "text": [
      "kate morgan,  24 Años\n",
      "samantha smith,  29 Años\n",
      "maria garcia,  33 Años\n",
      "lisa wilson,  35 Años\n",
      "james lee,  28 Años\n"
     ]
    }
   ],
   "source": [
    "users = [\n",
    "    ['32415', ['mike', 'reed'], 32, ['electronics', 'sport', 'books'],\n",
    "     [894, 213, 173]],\n",
    "    ['31980', ['kate', 'morgan'], 24, ['clothes', 'books'], [439,\n",
    "     390]],\n",
    "    ['32156', ['john', 'doe'], 37, ['electronics', 'home', 'food'],\n",
    "     [459, 120, 99]],\n",
    "    ['32761', ['samantha', 'smith'], 29, ['clothes', 'electronics',\n",
    "     'beauty'], [299, 679, 85]],\n",
    "    ['32984', ['david', 'white'], 41, ['books', 'home', 'sport'], [234,\n",
    "     329, 243]],\n",
    "    ['33001', ['emily', 'brown'], 26, ['beauty', 'home', 'food'], [213,\n",
    "     659, 79]],\n",
    "    ['33767', ['maria', 'garcia'], 33, ['clothes', 'food', 'beauty'],\n",
    "     [499, 189, 63]],\n",
    "    ['33912', ['jose', 'martinez'], 22, ['sport', 'electronics', 'home'\n",
    "     ], [259, 549, 109]],\n",
    "    ['34009', ['lisa', 'wilson'], 35, ['home', 'books', 'clothes'],\n",
    "     [329, 189, 329]],\n",
    "    ['34278', ['james', 'lee'], 28, ['beauty', 'clothes', 'electronics'\n",
    "     ], [189, 299, 579]],\n",
    "    ]\n",
    "for user in users:\n",
    "    if 'clothes' in user[3]:  \n",
    "        print(f\"{user[1][0]} {user[1][1]},  {user[2]} Años\")\n"
   ]
  },
  {
   "cell_type": "markdown",
   "metadata": {},
   "source": [
    "\n",
    "<div class=\"alert alert-block alert-success\">\n",
    "\n",
    "<b>Comentario del revisor #6</b> <a class=\"tocSkip\"></a>\n",
    "\n",
    "Corregido. Te quedo excelente este ejercicio. \n",
    "\n",
    "Me gusto mucho como utilizaste el f- string.</div>"
   ]
  },
  {
   "cell_type": "markdown",
   "metadata": {},
   "source": [
    "GRACIAS"
   ]
  },
  {
   "cell_type": "markdown",
   "metadata": {},
   "source": [
    "Ejercicios:\n",
    "1.\tLa variable user_name contiene una cadena que tiene espacios innecesarios y un guion bajo entre el nombre y el apellido.\n",
    "2.\tLa variable user_name contiene una cadena que la quieren separada.\n",
    "3.\tEl tipo de datos de user_age es incorrecto debe ser un número entero.\n",
    "4.\tEl tipo de datos de user_age es incorrecto debe ser un número entero.\n",
    "5.\tLa lista fav_categories contiene cadenas en mayúsculas. En su lugar, deberíamos convertir los valores de la lista a minúsculas.\n",
    "6.\tLa lista spendings_per_category  contiene cadenas números enteros y hay que desglosarlos a Total, Maximo, y Minimo.\n",
    "7.\tEl bucle  while  busca el valor de un importe total mayor a $1500 se consideran leales y recibirán un descuento.\n",
    "8.\tDe las variables `user_id`, `user_name` y `user_age` hay que unir una cadena `User 32415 is mike who is 32 years old.`\n",
    "9.\tEl bucle  spendings_list   extrae la lista de gastos de cada usuario o usuaria y suma los valores y la actulaiza.\n",
    "10.\tDel directorio  user  buscar en la lista de usuarios los nombres de la clientela menor de 30 años.\n",
    "11.\tDel directorio  user  buscar en la lista de usuarios los nombres de la clientela menor de 30 años y un gasto total superior a 1000 dólares.\n",
    "12.\tDel directorio  user  buscar en la lista de usuarios los nombres de la clientela que han comprado ropa.\n"
   ]
  },
  {
   "cell_type": "markdown",
   "metadata": {},
   "source": [
    "<div class=\"alert alert-block alert-success\">\n",
    "<b>Comentario general #12</b> <a class=\"tocSkip\"></a>\n",
    "\n",
    "Jorge, esta bien lo que comentas.\n",
    "\n",
    "Este comentario deberia ir arriba y ademas era entre las 4 opciones que te di. De igual manera hiciste un buen analisis exhaustivo.\n",
    "\n",
    "Ademas hiciste un gran trabajo a nivel codigo, me gusto mucho como te quedo.\n",
    "\n",
    "El trabajo pasa a estar **aprobado**. Exitos en lo que viene y saludos.\n",
    "</div>"
   ]
  }
 ],
 "metadata": {
  "colab": {
   "provenance": []
  },
  "kernelspec": {
   "display_name": "Python 3 (ipykernel)",
   "language": "python",
   "name": "python3"
  },
  "language_info": {
   "codemirror_mode": {
    "name": "ipython",
    "version": 3
   },
   "file_extension": ".py",
   "mimetype": "text/x-python",
   "name": "python",
   "nbconvert_exporter": "python",
   "pygments_lexer": "ipython3",
   "version": "3.9.19"
  },
  "toc": {
   "base_numbering": 1,
   "nav_menu": {},
   "number_sections": true,
   "sideBar": true,
   "skip_h1_title": true,
   "title_cell": "Table of Contents",
   "title_sidebar": "Contents",
   "toc_cell": false,
   "toc_position": {},
   "toc_section_display": true,
   "toc_window_display": false
  }
 },
 "nbformat": 4,
 "nbformat_minor": 1
}
